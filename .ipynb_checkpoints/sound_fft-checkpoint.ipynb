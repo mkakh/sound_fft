{
 "cells": [
  {
   "cell_type": "markdown",
   "metadata": {},
   "source": [
    "# 色々なサウンドファイルをFFTしてグラフ表示するスクリプト\n",
    "\n",
    "## Usage\n",
    "filenameとformatをお好みの設定に直してお楽しみください．\n",
    "\n",
    "## WAV素材サイト\n",
    "https://www3.nd.edu/~dthain/courses/cse20211/fall2013/wavfile/"
   ]
  },
  {
   "cell_type": "code",
   "execution_count": 1,
   "metadata": {},
   "outputs": [
    {
     "data": {
      "image/png": "[encoded data removed]",
      "text/plain": [
       "<matplotlib.figure.Figure at 0x7f11e85ec908>"
      ]
     },
     "metadata": {},
     "output_type": "display_data"
    }
   ],
   "source": [
    "import scipy.fftpack\n",
    "import numpy as np\n",
    "import matplotlib.pyplot as plt\n",
    "import pydub\n",
    "\n",
    "# 入力ファイルの名前とフォーマット形式の設定\n",
    "filename = 'sine3.wav'\n",
    "format = 'wav'\n",
    "\n",
    "# 出力するグラフのサイズ設定\n",
    "plt.rcParams['figure.figsize'] = (8, 6)\n",
    "\n",
    "# 出力するグラフのx軸の範囲設定\n",
    "plt.xlim(0, 10000)\n",
    "\n",
    "# ファイルの読み込み\n",
    "data = pydub.AudioSegment.from_file(filename, format)\n",
    "y = data.get_array_of_samples()\n",
    "yf = scipy.fftpack.rfft(y)\n",
    "x = np.arange(0, yf.size, 1)\n",
    "\n",
    "# グラフの表示\n",
    "plt.plot(x, np.abs(yf))\n",
    "plt.show()"
   ]
  },
  {
   "cell_type": "code",
   "execution_count": null,
   "metadata": {},
   "outputs": [],
   "source": []
  }
 ],
 "metadata": {
  "kernelspec": {
   "display_name": "Python 3",
   "language": "python",
   "name": "python3"
  },
  "language_info": {
   "codemirror_mode": {
    "name": "ipython",
    "version": 3
   },
   "file_extension": ".py",
   "mimetype": "text/x-python",
   "name": "python",
   "nbconvert_exporter": "python",
   "pygments_lexer": "ipython3",
   "version": "3.6.4"
  }
 },
 "nbformat": 4,
 "nbformat_minor": 2
}
