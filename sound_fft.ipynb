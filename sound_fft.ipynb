{
 "cells": [
  {
   "cell_type": "markdown",
   "metadata": {},
   "source": [
    "# 色々なサウンドファイルをFFTしてグラフ表示するスクリプト\n",
    "\n",
    "## Usage\n",
    "filenameとformatをお好みの設定に直してお楽しみください．\n",
    "\n",
    "ファイルの読み込みはどちらか一方をコメントアウトしてください．\n",
    "\n",
    "## CuPy版\n",
    "\n",
    "mp3等をFFTするときはとても時間がかかるのでCuPyでGPUを使うことをおすすめします．\n",
    "\n",
    "扱えないファイル形式があるため通常はScipy版を使ってください．\n",
    "\n",
    "※ cupyのバージョンは4.0.0rc1を使用しました．古いcupyだとfftがないので注意してください．\n",
    "\n",
    "## WAV素材サイト\n",
    "https://www3.nd.edu/~dthain/courses/cse20211/fall2013/wavfile/"
   ]
  },
  {
   "cell_type": "code",
   "execution_count": 1,
   "metadata": {},
   "outputs": [],
   "source": [
    "import matplotlib.pyplot as plt\n",
    "import numpy as np\n",
    "import pydub\n",
    "\n",
    "# 入力ファイルの名前とフォーマット形式の設定\n",
    "filename = 'sound.mp3'\n",
    "format = 'mp3'"
   ]
  },
  {
   "cell_type": "code",
   "execution_count": 2,
   "metadata": {},
   "outputs": [],
   "source": [
    "# ファイルの読み込み(cupy版)\n",
    "#import cupy as cp\n",
    "\n",
    "#cp.cuda.set_allocator(cp.cuda.MemoryPool().malloc)\n",
    "#data = pydub.AudioSegment.from_file(filename, format)\n",
    "#y = data.get_array_of_samples()\n",
    "#y = cp.array(y)\n",
    "#yf = cp.asnumpy(cp.fft.fft(y))\n",
    "#rate = float(pydub.utils.mediainfo(filename)['sample_rate'])\n",
    "#x = np.fft.fftfreq(len(yf), 1 / rate)"
   ]
  },
  {
   "cell_type": "code",
   "execution_count": 3,
   "metadata": {},
   "outputs": [],
   "source": [
    "# ファイルの読み込み(scipy版)\n",
    "import scipy.fftpack\n",
    "\n",
    "data = pydub.AudioSegment.from_file(filename, format)\n",
    "y = data.get_array_of_samples()\n",
    "yf = scipy.fftpack.fft(y)\n",
    "rate = float(pydub.utils.mediainfo(filename)['sample_rate'])\n",
    "x = scipy.fftpack.fftfreq(len(yf), 1 / rate)"
   ]
  },
  {
   "cell_type": "code",
   "execution_count": 4,
   "metadata": {},
   "outputs": [
    {
     "data": {
      "image/png": "[encoded data removed]",
      "text/plain": [
       "<matplotlib.figure.Figure at 0x7f1daa762550>"
      ]
     },
     "metadata": {},
     "output_type": "display_data"
    }
   ],
   "source": [
    "# 出力するグラフのサイズ設定\n",
    "plt.rcParams['figure.figsize'] = (8, 6)\n",
    "\n",
    "# 出力するグラフのx軸の範囲設定\n",
    "plt.xlim(0, 2000)\n",
    "\n",
    "# グラフの表示\n",
    "plt.plot(x, np.abs(yf))\n",
    "plt.show()"
   ]
  },
  {
   "cell_type": "code",
   "execution_count": null,
   "metadata": {},
   "outputs": [],
   "source": []
  }
 ],
 "metadata": {
  "kernelspec": {
   "display_name": "Python 3",
   "language": "python",
   "name": "python3"
  },
  "language_info": {
   "codemirror_mode": {
    "name": "ipython",
    "version": 3
   },
   "file_extension": ".py",
   "mimetype": "text/x-python",
   "name": "python",
   "nbconvert_exporter": "python",
   "pygments_lexer": "ipython3",
   "version": "3.6.4"
  }
 },
 "nbformat": 4,
 "nbformat_minor": 2
}
