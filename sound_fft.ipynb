{
 "cells": [
  {
   "cell_type": "markdown",
   "metadata": {},
   "source": [
    "# サウンドファイルをFFTして振幅スペクトルを表示するスクリプト\n",
    "\n",
    "## Usage\n",
    "filenameとformatをサウンドファイルに合わせて書き直してください．\n",
    "\n",
    "## WAV素材サイト\n",
    "https://www3.nd.edu/~dthain/courses/cse20211/fall2013/wavfile/"
   ]
  },
  {
   "cell_type": "code",
   "execution_count": 1,
   "metadata": {},
   "outputs": [],
   "source": [
    "import matplotlib.pyplot as plt\n",
    "import numpy as np\n",
    "import scipy.fftpack\n",
    "import scipy.signal\n",
    "import pydub\n",
    "\n",
    "# 入力ファイルの名前とフォーマット形式の設定\n",
    "filename = 'sine3.wav'\n",
    "format = 'wav'\n",
    "\n",
    "# 音楽ファイル読み込み\n",
    "data = pydub.AudioSegment.from_file(filename, format)\n",
    "y = data.get_array_of_samples()"
   ]
  },
  {
   "cell_type": "code",
   "execution_count": 3,
   "metadata": {},
   "outputs": [],
   "source": [
    "# 窓関数（ハン窓）\n",
    "w = scipy.signal.windows.hann(len(y))\n",
    "\n",
    "# FFT\n",
    "yf = scipy.fftpack.fft(y * w)"
   ]
  },
  {
   "cell_type": "code",
   "execution_count": 4,
   "metadata": {},
   "outputs": [
    {
     "data": {
      "image/png": "[encoded data removed]",
      "text/plain": [
       "<Figure size 576x432 with 1 Axes>"
      ]
     },
     "metadata": {},
     "output_type": "display_data"
    }
   ],
   "source": [
    "# 出力するグラフのサイズ設定\n",
    "plt.rcParams['figure.figsize'] = (8, 6)\n",
    "\n",
    "# x軸\n",
    "rate = float(pydub.utils.mediainfo(filename)['sample_rate'])\n",
    "x = scipy.fftpack.fftfreq(len(yf), 1 / rate)\n",
    "\n",
    "# 出力するグラフのx軸の範囲設定\n",
    "plt.xlim(-2000, 2000)\n",
    "\n",
    "# グラフの表示\n",
    "plt.plot(x, np.abs(yf))\n",
    "plt.show()"
   ]
  },
  {
   "cell_type": "code",
   "execution_count": null,
   "metadata": {},
   "outputs": [],
   "source": []
  }
 ],
 "metadata": {
  "kernelspec": {
   "display_name": "Python 3",
   "language": "python",
   "name": "python3"
  },
  "language_info": {
   "codemirror_mode": {
    "name": "ipython",
    "version": 3
   },
   "file_extension": ".py",
   "mimetype": "text/x-python",
   "name": "python",
   "nbconvert_exporter": "python",
   "pygments_lexer": "ipython3",
   "version": "3.6.6"
  }
 },
 "nbformat": 4,
 "nbformat_minor": 2
}
